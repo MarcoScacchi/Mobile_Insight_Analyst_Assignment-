{
 "cells": [
  {
   "cell_type": "markdown",
   "metadata": {},
   "source": [
    "#### Load packages and datasets "
   ]
  },
  {
   "cell_type": "code",
   "execution_count": 1,
   "metadata": {},
   "outputs": [],
   "source": [
    "# import pandas and matplotlib\n",
    "# load the 'App Info'and 'App Store Estimates' datasets \n",
    "# the Excel 'Country Codes' and 'Country COVID-19 Dates' tabs will be added manually to the final Excel file when carrying out exploratory and explanatory data analysis \n",
    "\n",
    "import pandas as pd\n",
    "import matplotlib.pyplot as plt\n",
    "\n",
    "app_info_df = pd.read_csv('App_Info.csv')\n",
    "\n",
    "app_estimates_df = pd.read_csv('App_Store_Estimates.csv')"
   ]
  },
  {
   "cell_type": "code",
   "execution_count": 2,
   "metadata": {},
   "outputs": [
    {
     "data": {
      "text/html": [
       "<div>\n",
       "<style scoped>\n",
       "    .dataframe tbody tr th:only-of-type {\n",
       "        vertical-align: middle;\n",
       "    }\n",
       "\n",
       "    .dataframe tbody tr th {\n",
       "        vertical-align: top;\n",
       "    }\n",
       "\n",
       "    .dataframe thead th {\n",
       "        text-align: right;\n",
       "    }\n",
       "</style>\n",
       "<table border=\"1\" class=\"dataframe\">\n",
       "  <thead>\n",
       "    <tr style=\"text-align: right;\">\n",
       "      <th></th>\n",
       "      <th>Unified ID</th>\n",
       "      <th>Unified Name</th>\n",
       "      <th>Unified Publisher</th>\n",
       "      <th>Unified Publisher Name</th>\n",
       "      <th>App ID</th>\n",
       "      <th>App Name</th>\n",
       "      <th>Publisher ID</th>\n",
       "      <th>Publisher Name</th>\n",
       "      <th>Country</th>\n",
       "      <th>Date</th>\n",
       "      <th>...</th>\n",
       "      <th>Change Ratio (Downloads)</th>\n",
       "      <th>Absolute (Revenue)</th>\n",
       "      <th>Change (Revenue)</th>\n",
       "      <th>Change Ratio (Revenue)</th>\n",
       "      <th>Category</th>\n",
       "      <th>App Release Date</th>\n",
       "      <th>Publisher Country</th>\n",
       "      <th>Is a Game</th>\n",
       "      <th>Most Popular Country by Downloads</th>\n",
       "      <th>Most Popular Country by Revenue</th>\n",
       "    </tr>\n",
       "  </thead>\n",
       "  <tbody>\n",
       "    <tr>\n",
       "      <th>0</th>\n",
       "      <td>55c5027502ac64f9c0001fa6</td>\n",
       "      <td>YouTube: Watch, Listen, Stream</td>\n",
       "      <td>5614b2f23f07e2077c000024</td>\n",
       "      <td>Google, Inc.</td>\n",
       "      <td>544007664</td>\n",
       "      <td>YouTube: Watch, Listen, Stream</td>\n",
       "      <td>281956209</td>\n",
       "      <td>Google LLC</td>\n",
       "      <td>Worldwide</td>\n",
       "      <td>1/1/2019</td>\n",
       "      <td>...</td>\n",
       "      <td>-0.013013</td>\n",
       "      <td>$623,968,702.26</td>\n",
       "      <td>$392,127,522.91</td>\n",
       "      <td>1.691363</td>\n",
       "      <td>Photo &amp; Video</td>\n",
       "      <td>2012/09</td>\n",
       "      <td>US</td>\n",
       "      <td>False</td>\n",
       "      <td>US</td>\n",
       "      <td>US</td>\n",
       "    </tr>\n",
       "    <tr>\n",
       "      <th>1</th>\n",
       "      <td>55c527c302ac64f9c0002b18</td>\n",
       "      <td>Instagram</td>\n",
       "      <td>56289c8802ac6486a70013a5</td>\n",
       "      <td>Facebook, Inc.</td>\n",
       "      <td>389801252</td>\n",
       "      <td>Instagram</td>\n",
       "      <td>389801255</td>\n",
       "      <td>Instagram, Inc.</td>\n",
       "      <td>Worldwide</td>\n",
       "      <td>1/1/2019</td>\n",
       "      <td>...</td>\n",
       "      <td>0.029098</td>\n",
       "      <td>$0.00</td>\n",
       "      <td>$0.00</td>\n",
       "      <td>0.000000</td>\n",
       "      <td>Photo &amp; Video</td>\n",
       "      <td>2010/10</td>\n",
       "      <td>US</td>\n",
       "      <td>False</td>\n",
       "      <td>US</td>\n",
       "      <td>NaN</td>\n",
       "    </tr>\n",
       "    <tr>\n",
       "      <th>2</th>\n",
       "      <td>55c503be02ac64f9c000203c</td>\n",
       "      <td>WhatsApp Messenger</td>\n",
       "      <td>56289c8802ac6486a70013a5</td>\n",
       "      <td>Facebook, Inc.</td>\n",
       "      <td>310633997</td>\n",
       "      <td>WhatsApp Messenger</td>\n",
       "      <td>310634000</td>\n",
       "      <td>WhatsApp Inc.</td>\n",
       "      <td>Worldwide</td>\n",
       "      <td>1/1/2019</td>\n",
       "      <td>...</td>\n",
       "      <td>-0.139270</td>\n",
       "      <td>$134,336.33</td>\n",
       "      <td>$20,039.21</td>\n",
       "      <td>0.175326</td>\n",
       "      <td>Social Networking</td>\n",
       "      <td>2009/05</td>\n",
       "      <td>US</td>\n",
       "      <td>False</td>\n",
       "      <td>US</td>\n",
       "      <td>Great Britain</td>\n",
       "    </tr>\n",
       "    <tr>\n",
       "      <th>3</th>\n",
       "      <td>56cbbce9d48401b048003405</td>\n",
       "      <td>TikTok - including musical.ly</td>\n",
       "      <td>57292e0f67cbb1092d00010e</td>\n",
       "      <td>Bytedance 字节跳动</td>\n",
       "      <td>835599320</td>\n",
       "      <td>TikTok - Make Your Day</td>\n",
       "      <td>1039610913</td>\n",
       "      <td>TikTok Inc.</td>\n",
       "      <td>Worldwide</td>\n",
       "      <td>1/1/2019</td>\n",
       "      <td>...</td>\n",
       "      <td>1.406843</td>\n",
       "      <td>$44,967,457.71</td>\n",
       "      <td>$29,089,572.69</td>\n",
       "      <td>1.832081</td>\n",
       "      <td>Entertainment</td>\n",
       "      <td>2014/04</td>\n",
       "      <td>China</td>\n",
       "      <td>False</td>\n",
       "      <td>US</td>\n",
       "      <td>US</td>\n",
       "    </tr>\n",
       "    <tr>\n",
       "      <th>4</th>\n",
       "      <td>55c530a702ac64f9c0002dff</td>\n",
       "      <td>Facebook</td>\n",
       "      <td>56289c8802ac6486a70013a5</td>\n",
       "      <td>Facebook, Inc.</td>\n",
       "      <td>284882215</td>\n",
       "      <td>Facebook</td>\n",
       "      <td>284882218</td>\n",
       "      <td>Facebook, Inc.</td>\n",
       "      <td>Worldwide</td>\n",
       "      <td>1/1/2019</td>\n",
       "      <td>...</td>\n",
       "      <td>-0.104545</td>\n",
       "      <td>$17,173,114.30</td>\n",
       "      <td>$15,832,490.75</td>\n",
       "      <td>11.809796</td>\n",
       "      <td>Social Networking</td>\n",
       "      <td>2008/07</td>\n",
       "      <td>US</td>\n",
       "      <td>False</td>\n",
       "      <td>US</td>\n",
       "      <td>US</td>\n",
       "    </tr>\n",
       "    <tr>\n",
       "      <th>...</th>\n",
       "      <td>...</td>\n",
       "      <td>...</td>\n",
       "      <td>...</td>\n",
       "      <td>...</td>\n",
       "      <td>...</td>\n",
       "      <td>...</td>\n",
       "      <td>...</td>\n",
       "      <td>...</td>\n",
       "      <td>...</td>\n",
       "      <td>...</td>\n",
       "      <td>...</td>\n",
       "      <td>...</td>\n",
       "      <td>...</td>\n",
       "      <td>...</td>\n",
       "      <td>...</td>\n",
       "      <td>...</td>\n",
       "      <td>...</td>\n",
       "      <td>...</td>\n",
       "      <td>...</td>\n",
       "      <td>...</td>\n",
       "      <td>...</td>\n",
       "    </tr>\n",
       "    <tr>\n",
       "      <th>1495</th>\n",
       "      <td>568e2cd802ac64cd21000153</td>\n",
       "      <td>火影忍者</td>\n",
       "      <td>5614b2f53f07e2077c000059</td>\n",
       "      <td>Tencent 腾讯</td>\n",
       "      <td>955396648</td>\n",
       "      <td>火影忍者</td>\n",
       "      <td>446324237</td>\n",
       "      <td>Tencent Mobile Games</td>\n",
       "      <td>Worldwide</td>\n",
       "      <td>1/1/2019</td>\n",
       "      <td>...</td>\n",
       "      <td>0.284980</td>\n",
       "      <td>$140,364,486.33</td>\n",
       "      <td>$49,470,059.66</td>\n",
       "      <td>0.544258</td>\n",
       "      <td>Games</td>\n",
       "      <td>2016/01</td>\n",
       "      <td>China</td>\n",
       "      <td>True</td>\n",
       "      <td>China</td>\n",
       "      <td>China</td>\n",
       "    </tr>\n",
       "    <tr>\n",
       "      <th>1496</th>\n",
       "      <td>5a3c5a885c52967f988b67d2</td>\n",
       "      <td>Geometry Dash SubZero</td>\n",
       "      <td>5614c75f3f07e25d2900b40a</td>\n",
       "      <td>RobTop Games AB</td>\n",
       "      <td>1324044770</td>\n",
       "      <td>Geometry Dash SubZero</td>\n",
       "      <td>414027834</td>\n",
       "      <td>RobTop Games AB</td>\n",
       "      <td>Worldwide</td>\n",
       "      <td>1/1/2019</td>\n",
       "      <td>...</td>\n",
       "      <td>-0.311092</td>\n",
       "      <td>$0.00</td>\n",
       "      <td>$0.00</td>\n",
       "      <td>0.000000</td>\n",
       "      <td>Games</td>\n",
       "      <td>2017/12</td>\n",
       "      <td>Sweden</td>\n",
       "      <td>True</td>\n",
       "      <td>US</td>\n",
       "      <td>NaN</td>\n",
       "    </tr>\n",
       "    <tr>\n",
       "      <th>1497</th>\n",
       "      <td>55c50a1402ac64f9c0002278</td>\n",
       "      <td>TeamViewer for Remote Control</td>\n",
       "      <td>560489e58ac350172200209f</td>\n",
       "      <td>TeamViewer</td>\n",
       "      <td>692035811</td>\n",
       "      <td>TeamViewer: Remote Control</td>\n",
       "      <td>357051969</td>\n",
       "      <td>TeamViewer</td>\n",
       "      <td>Worldwide</td>\n",
       "      <td>1/1/2019</td>\n",
       "      <td>...</td>\n",
       "      <td>-0.120864</td>\n",
       "      <td>$227,005.48</td>\n",
       "      <td>$227,005.48</td>\n",
       "      <td>0.000000</td>\n",
       "      <td>Productivity</td>\n",
       "      <td>2013/10</td>\n",
       "      <td>Germany</td>\n",
       "      <td>False</td>\n",
       "      <td>US</td>\n",
       "      <td>US</td>\n",
       "    </tr>\n",
       "    <tr>\n",
       "      <th>1498</th>\n",
       "      <td>5d48c7405c6ace3d3ab895f4</td>\n",
       "      <td>nice-潮流看我</td>\n",
       "      <td>5628a19002ac6486a703da25</td>\n",
       "      <td>Nice App Mobile Technology Co., Ltd.</td>\n",
       "      <td>641895599</td>\n",
       "      <td>nice-潮流看我</td>\n",
       "      <td>827257349</td>\n",
       "      <td>北京极赞科技有限公司</td>\n",
       "      <td>Worldwide</td>\n",
       "      <td>1/1/2019</td>\n",
       "      <td>...</td>\n",
       "      <td>1.738848</td>\n",
       "      <td>$47,995.35</td>\n",
       "      <td>($199,227.07)</td>\n",
       "      <td>-0.805862</td>\n",
       "      <td>Sports</td>\n",
       "      <td>2013/07</td>\n",
       "      <td>China</td>\n",
       "      <td>False</td>\n",
       "      <td>China</td>\n",
       "      <td>China</td>\n",
       "    </tr>\n",
       "    <tr>\n",
       "      <th>1499</th>\n",
       "      <td>5ba1a19def71a76da561ca41</td>\n",
       "      <td>Age of Z</td>\n",
       "      <td>5abdba02c618f41306836ae7</td>\n",
       "      <td>Camel Games 壳木</td>\n",
       "      <td>1376515087</td>\n",
       "      <td>Age of Z</td>\n",
       "      <td>1300436103</td>\n",
       "      <td>CAMEL GAMES LIMITED</td>\n",
       "      <td>Worldwide</td>\n",
       "      <td>1/1/2019</td>\n",
       "      <td>...</td>\n",
       "      <td>34.586233</td>\n",
       "      <td>$28,054,051.82</td>\n",
       "      <td>$27,888,237.68</td>\n",
       "      <td>168.189743</td>\n",
       "      <td>Games</td>\n",
       "      <td>2018/10</td>\n",
       "      <td>US</td>\n",
       "      <td>True</td>\n",
       "      <td>US</td>\n",
       "      <td>US</td>\n",
       "    </tr>\n",
       "  </tbody>\n",
       "</table>\n",
       "<p>1500 rows × 22 columns</p>\n",
       "</div>"
      ],
      "text/plain": [
       "                    Unified ID                    Unified Name  \\\n",
       "0     55c5027502ac64f9c0001fa6  YouTube: Watch, Listen, Stream   \n",
       "1     55c527c302ac64f9c0002b18                       Instagram   \n",
       "2     55c503be02ac64f9c000203c              WhatsApp Messenger   \n",
       "3     56cbbce9d48401b048003405   TikTok - including musical.ly   \n",
       "4     55c530a702ac64f9c0002dff                        Facebook   \n",
       "...                        ...                             ...   \n",
       "1495  568e2cd802ac64cd21000153                            火影忍者   \n",
       "1496  5a3c5a885c52967f988b67d2           Geometry Dash SubZero   \n",
       "1497  55c50a1402ac64f9c0002278   TeamViewer for Remote Control   \n",
       "1498  5d48c7405c6ace3d3ab895f4                       nice-潮流看我   \n",
       "1499  5ba1a19def71a76da561ca41                        Age of Z   \n",
       "\n",
       "             Unified Publisher                Unified Publisher Name  \\\n",
       "0     5614b2f23f07e2077c000024                          Google, Inc.   \n",
       "1     56289c8802ac6486a70013a5                        Facebook, Inc.   \n",
       "2     56289c8802ac6486a70013a5                        Facebook, Inc.   \n",
       "3     57292e0f67cbb1092d00010e                        Bytedance 字节跳动   \n",
       "4     56289c8802ac6486a70013a5                        Facebook, Inc.   \n",
       "...                        ...                                   ...   \n",
       "1495  5614b2f53f07e2077c000059                            Tencent 腾讯   \n",
       "1496  5614c75f3f07e25d2900b40a                       RobTop Games AB   \n",
       "1497  560489e58ac350172200209f                            TeamViewer   \n",
       "1498  5628a19002ac6486a703da25  Nice App Mobile Technology Co., Ltd.   \n",
       "1499  5abdba02c618f41306836ae7                        Camel Games 壳木   \n",
       "\n",
       "          App ID                        App Name  Publisher ID  \\\n",
       "0      544007664  YouTube: Watch, Listen, Stream     281956209   \n",
       "1      389801252                       Instagram     389801255   \n",
       "2      310633997              WhatsApp Messenger     310634000   \n",
       "3      835599320          TikTok - Make Your Day    1039610913   \n",
       "4      284882215                        Facebook     284882218   \n",
       "...          ...                             ...           ...   \n",
       "1495   955396648                            火影忍者     446324237   \n",
       "1496  1324044770           Geometry Dash SubZero     414027834   \n",
       "1497   692035811      TeamViewer: Remote Control     357051969   \n",
       "1498   641895599                       nice-潮流看我     827257349   \n",
       "1499  1376515087                        Age of Z    1300436103   \n",
       "\n",
       "            Publisher Name    Country      Date  ...  \\\n",
       "0               Google LLC  Worldwide  1/1/2019  ...   \n",
       "1          Instagram, Inc.  Worldwide  1/1/2019  ...   \n",
       "2            WhatsApp Inc.  Worldwide  1/1/2019  ...   \n",
       "3              TikTok Inc.  Worldwide  1/1/2019  ...   \n",
       "4           Facebook, Inc.  Worldwide  1/1/2019  ...   \n",
       "...                    ...        ...       ...  ...   \n",
       "1495  Tencent Mobile Games  Worldwide  1/1/2019  ...   \n",
       "1496       RobTop Games AB  Worldwide  1/1/2019  ...   \n",
       "1497            TeamViewer  Worldwide  1/1/2019  ...   \n",
       "1498            北京极赞科技有限公司  Worldwide  1/1/2019  ...   \n",
       "1499   CAMEL GAMES LIMITED  Worldwide  1/1/2019  ...   \n",
       "\n",
       "      Change Ratio (Downloads)  Absolute (Revenue)  Change (Revenue)  \\\n",
       "0                    -0.013013    $623,968,702.26   $392,127,522.91    \n",
       "1                     0.029098              $0.00             $0.00    \n",
       "2                    -0.139270        $134,336.33        $20,039.21    \n",
       "3                     1.406843     $44,967,457.71    $29,089,572.69    \n",
       "4                    -0.104545     $17,173,114.30    $15,832,490.75    \n",
       "...                        ...                 ...               ...   \n",
       "1495                  0.284980    $140,364,486.33    $49,470,059.66    \n",
       "1496                 -0.311092              $0.00             $0.00    \n",
       "1497                 -0.120864        $227,005.48       $227,005.48    \n",
       "1498                  1.738848         $47,995.35      ($199,227.07)   \n",
       "1499                 34.586233     $28,054,051.82    $27,888,237.68    \n",
       "\n",
       "     Change Ratio (Revenue)           Category  App Release Date  \\\n",
       "0                  1.691363      Photo & Video           2012/09   \n",
       "1                  0.000000      Photo & Video           2010/10   \n",
       "2                  0.175326  Social Networking           2009/05   \n",
       "3                  1.832081      Entertainment           2014/04   \n",
       "4                 11.809796  Social Networking           2008/07   \n",
       "...                     ...                ...               ...   \n",
       "1495               0.544258              Games           2016/01   \n",
       "1496               0.000000              Games           2017/12   \n",
       "1497               0.000000       Productivity           2013/10   \n",
       "1498              -0.805862             Sports           2013/07   \n",
       "1499             168.189743              Games           2018/10   \n",
       "\n",
       "     Publisher Country Is a Game Most Popular Country by Downloads  \\\n",
       "0                   US     False                                US   \n",
       "1                   US     False                                US   \n",
       "2                   US     False                                US   \n",
       "3                China     False                                US   \n",
       "4                   US     False                                US   \n",
       "...                ...       ...                               ...   \n",
       "1495             China      True                             China   \n",
       "1496            Sweden      True                                US   \n",
       "1497           Germany     False                                US   \n",
       "1498             China     False                             China   \n",
       "1499                US      True                                US   \n",
       "\n",
       "      Most Popular Country by Revenue  \n",
       "0                                  US  \n",
       "1                                 NaN  \n",
       "2                       Great Britain  \n",
       "3                                  US  \n",
       "4                                  US  \n",
       "...                               ...  \n",
       "1495                            China  \n",
       "1496                              NaN  \n",
       "1497                               US  \n",
       "1498                            China  \n",
       "1499                               US  \n",
       "\n",
       "[1500 rows x 22 columns]"
      ]
     },
     "execution_count": 2,
     "metadata": {},
     "output_type": "execute_result"
    }
   ],
   "source": [
    "app_info_df.head(1500)"
   ]
  },
  {
   "cell_type": "markdown",
   "metadata": {},
   "source": [
    "#### Inspect app_info dataset "
   ]
  },
  {
   "cell_type": "code",
   "execution_count": 3,
   "metadata": {},
   "outputs": [
    {
     "data": {
      "text/plain": [
       "(3000, 22)"
      ]
     },
     "execution_count": 3,
     "metadata": {},
     "output_type": "execute_result"
    }
   ],
   "source": [
    "# inspect shape\n",
    "app_info_df.shape"
   ]
  },
  {
   "cell_type": "code",
   "execution_count": 4,
   "metadata": {},
   "outputs": [
    {
     "data": {
      "text/plain": [
       "0"
      ]
     },
     "execution_count": 4,
     "metadata": {},
     "output_type": "execute_result"
    }
   ],
   "source": [
    "# Look for number of duplicated rows \n",
    "sum(app_info_df.duplicated())"
   ]
  },
  {
   "cell_type": "code",
   "execution_count": 5,
   "metadata": {},
   "outputs": [
    {
     "name": "stdout",
     "output_type": "stream",
     "text": [
      "<class 'pandas.core.frame.DataFrame'>\n",
      "RangeIndex: 3000 entries, 0 to 2999\n",
      "Data columns (total 22 columns):\n",
      " #   Column                             Non-Null Count  Dtype  \n",
      "---  ------                             --------------  -----  \n",
      " 0   Unified ID                         3000 non-null   object \n",
      " 1   Unified Name                       3000 non-null   object \n",
      " 2   Unified Publisher                  3000 non-null   object \n",
      " 3   Unified Publisher Name             3000 non-null   object \n",
      " 4   App ID                             3000 non-null   int64  \n",
      " 5   App Name                           3000 non-null   object \n",
      " 6   Publisher ID                       3000 non-null   int64  \n",
      " 7   Publisher Name                     3000 non-null   object \n",
      " 8   Country                            3000 non-null   object \n",
      " 9   Date                               3000 non-null   object \n",
      " 10  Absolute (Downloads)               3000 non-null   int64  \n",
      " 11  Change (Downloads)                 3000 non-null   int64  \n",
      " 12  Change Ratio (Downloads)           3000 non-null   float64\n",
      " 13  Absolute (Revenue)                 3000 non-null   object \n",
      " 14  Change (Revenue)                   3000 non-null   object \n",
      " 15  Change Ratio (Revenue)             3000 non-null   float64\n",
      " 16  Category                           3000 non-null   object \n",
      " 17  App Release Date                   3000 non-null   object \n",
      " 18  Publisher Country                  2586 non-null   object \n",
      " 19  Is a Game                          3000 non-null   bool   \n",
      " 20  Most Popular Country by Downloads  3000 non-null   object \n",
      " 21  Most Popular Country by Revenue    2562 non-null   object \n",
      "dtypes: bool(1), float64(2), int64(4), object(15)\n",
      "memory usage: 495.2+ KB\n"
     ]
    }
   ],
   "source": [
    "# check non-null count and Dtype\n",
    "# 'App ID' Dtype will be changed from int64 to object once the datasets are merged \n",
    "# 'Date' Dtype will be changed from object to datetime once the datasets are merged\n",
    "app_info_df.info()"
   ]
  },
  {
   "cell_type": "markdown",
   "metadata": {},
   "source": [
    "#### Inspect app_estimates dataset "
   ]
  },
  {
   "cell_type": "code",
   "execution_count": 6,
   "metadata": {},
   "outputs": [
    {
     "data": {
      "text/html": [
       "<div>\n",
       "<style scoped>\n",
       "    .dataframe tbody tr th:only-of-type {\n",
       "        vertical-align: middle;\n",
       "    }\n",
       "\n",
       "    .dataframe tbody tr th {\n",
       "        vertical-align: top;\n",
       "    }\n",
       "\n",
       "    .dataframe thead th {\n",
       "        text-align: right;\n",
       "    }\n",
       "</style>\n",
       "<table border=\"1\" class=\"dataframe\">\n",
       "  <thead>\n",
       "    <tr style=\"text-align: right;\">\n",
       "      <th></th>\n",
       "      <th>Unified ID</th>\n",
       "      <th>Unified Name</th>\n",
       "      <th>Unified Publisher</th>\n",
       "      <th>Unified Publisher Name</th>\n",
       "      <th>Parent Company Name</th>\n",
       "      <th>App ID</th>\n",
       "      <th>App Name</th>\n",
       "      <th>Publisher ID</th>\n",
       "      <th>Publisher Name</th>\n",
       "      <th>Country</th>\n",
       "      <th>Date</th>\n",
       "      <th>Android Downloads</th>\n",
       "      <th>Android Revenue</th>\n",
       "      <th>iPad Downloads</th>\n",
       "      <th>iPad Revenue</th>\n",
       "      <th>iPhone Downloads</th>\n",
       "      <th>iPhone Revenue</th>\n",
       "      <th>Unified Total Downloads (Only for Unified CSV)</th>\n",
       "      <th>Unified Total Revenue (Only for Unified CSV)</th>\n",
       "    </tr>\n",
       "  </thead>\n",
       "  <tbody>\n",
       "    <tr>\n",
       "      <th>0</th>\n",
       "      <td>55d3a19f02ac64350a0003c7</td>\n",
       "      <td>京东-一起热爱 就现在</td>\n",
       "      <td>55f88bf68ac350426b013d32</td>\n",
       "      <td>Beijing Jingdong Century Trading</td>\n",
       "      <td>NaN</td>\n",
       "      <td>414245413</td>\n",
       "      <td>京东-一起热爱 就现在</td>\n",
       "      <td>414196706</td>\n",
       "      <td>Beijing Jingdong Century Trading Co., Ltd.</td>\n",
       "      <td>AR</td>\n",
       "      <td>12/30/2019</td>\n",
       "      <td>NaN</td>\n",
       "      <td>NaN</td>\n",
       "      <td>NaN</td>\n",
       "      <td>NaN</td>\n",
       "      <td>1.0</td>\n",
       "      <td>NaN</td>\n",
       "      <td>NaN</td>\n",
       "      <td>NaN</td>\n",
       "    </tr>\n",
       "    <tr>\n",
       "      <th>1</th>\n",
       "      <td>55d3a19f02ac64350a0003c7</td>\n",
       "      <td>京东-一起热爱 就现在</td>\n",
       "      <td>55f88bf68ac350426b013d32</td>\n",
       "      <td>Beijing Jingdong Century Trading</td>\n",
       "      <td>NaN</td>\n",
       "      <td>414245413</td>\n",
       "      <td>京东-一起热爱 就现在</td>\n",
       "      <td>414196706</td>\n",
       "      <td>Beijing Jingdong Century Trading Co., Ltd.</td>\n",
       "      <td>AT</td>\n",
       "      <td>12/30/2019</td>\n",
       "      <td>NaN</td>\n",
       "      <td>NaN</td>\n",
       "      <td>NaN</td>\n",
       "      <td>NaN</td>\n",
       "      <td>1.0</td>\n",
       "      <td>NaN</td>\n",
       "      <td>NaN</td>\n",
       "      <td>NaN</td>\n",
       "    </tr>\n",
       "    <tr>\n",
       "      <th>2</th>\n",
       "      <td>55d3a19f02ac64350a0003c7</td>\n",
       "      <td>京东-一起热爱 就现在</td>\n",
       "      <td>55f88bf68ac350426b013d32</td>\n",
       "      <td>Beijing Jingdong Century Trading</td>\n",
       "      <td>NaN</td>\n",
       "      <td>414245413</td>\n",
       "      <td>京东-一起热爱 就现在</td>\n",
       "      <td>414196706</td>\n",
       "      <td>Beijing Jingdong Century Trading Co., Ltd.</td>\n",
       "      <td>AU</td>\n",
       "      <td>12/30/2019</td>\n",
       "      <td>NaN</td>\n",
       "      <td>NaN</td>\n",
       "      <td>27.0</td>\n",
       "      <td>NaN</td>\n",
       "      <td>274.0</td>\n",
       "      <td>NaN</td>\n",
       "      <td>NaN</td>\n",
       "      <td>NaN</td>\n",
       "    </tr>\n",
       "    <tr>\n",
       "      <th>3</th>\n",
       "      <td>55d3a19f02ac64350a0003c7</td>\n",
       "      <td>京东-一起热爱 就现在</td>\n",
       "      <td>55f88bf68ac350426b013d32</td>\n",
       "      <td>Beijing Jingdong Century Trading</td>\n",
       "      <td>NaN</td>\n",
       "      <td>414245413</td>\n",
       "      <td>京东-一起热爱 就现在</td>\n",
       "      <td>414196706</td>\n",
       "      <td>Beijing Jingdong Century Trading Co., Ltd.</td>\n",
       "      <td>AZ</td>\n",
       "      <td>12/30/2019</td>\n",
       "      <td>NaN</td>\n",
       "      <td>NaN</td>\n",
       "      <td>NaN</td>\n",
       "      <td>NaN</td>\n",
       "      <td>6.0</td>\n",
       "      <td>NaN</td>\n",
       "      <td>NaN</td>\n",
       "      <td>NaN</td>\n",
       "    </tr>\n",
       "    <tr>\n",
       "      <th>4</th>\n",
       "      <td>55d3a19f02ac64350a0003c7</td>\n",
       "      <td>京东-一起热爱 就现在</td>\n",
       "      <td>55f88bf68ac350426b013d32</td>\n",
       "      <td>Beijing Jingdong Century Trading</td>\n",
       "      <td>NaN</td>\n",
       "      <td>414245413</td>\n",
       "      <td>京东-一起热爱 就现在</td>\n",
       "      <td>414196706</td>\n",
       "      <td>Beijing Jingdong Century Trading Co., Ltd.</td>\n",
       "      <td>BE</td>\n",
       "      <td>12/30/2019</td>\n",
       "      <td>NaN</td>\n",
       "      <td>NaN</td>\n",
       "      <td>NaN</td>\n",
       "      <td>NaN</td>\n",
       "      <td>13.0</td>\n",
       "      <td>NaN</td>\n",
       "      <td>NaN</td>\n",
       "      <td>NaN</td>\n",
       "    </tr>\n",
       "  </tbody>\n",
       "</table>\n",
       "</div>"
      ],
      "text/plain": [
       "                 Unified ID Unified Name         Unified Publisher  \\\n",
       "0  55d3a19f02ac64350a0003c7  京东-一起热爱 就现在  55f88bf68ac350426b013d32   \n",
       "1  55d3a19f02ac64350a0003c7  京东-一起热爱 就现在  55f88bf68ac350426b013d32   \n",
       "2  55d3a19f02ac64350a0003c7  京东-一起热爱 就现在  55f88bf68ac350426b013d32   \n",
       "3  55d3a19f02ac64350a0003c7  京东-一起热爱 就现在  55f88bf68ac350426b013d32   \n",
       "4  55d3a19f02ac64350a0003c7  京东-一起热爱 就现在  55f88bf68ac350426b013d32   \n",
       "\n",
       "             Unified Publisher Name  Parent Company Name     App ID  \\\n",
       "0  Beijing Jingdong Century Trading                  NaN  414245413   \n",
       "1  Beijing Jingdong Century Trading                  NaN  414245413   \n",
       "2  Beijing Jingdong Century Trading                  NaN  414245413   \n",
       "3  Beijing Jingdong Century Trading                  NaN  414245413   \n",
       "4  Beijing Jingdong Century Trading                  NaN  414245413   \n",
       "\n",
       "      App Name  Publisher ID                              Publisher Name  \\\n",
       "0  京东-一起热爱 就现在     414196706  Beijing Jingdong Century Trading Co., Ltd.   \n",
       "1  京东-一起热爱 就现在     414196706  Beijing Jingdong Century Trading Co., Ltd.   \n",
       "2  京东-一起热爱 就现在     414196706  Beijing Jingdong Century Trading Co., Ltd.   \n",
       "3  京东-一起热爱 就现在     414196706  Beijing Jingdong Century Trading Co., Ltd.   \n",
       "4  京东-一起热爱 就现在     414196706  Beijing Jingdong Century Trading Co., Ltd.   \n",
       "\n",
       "  Country        Date  Android Downloads  Android Revenue  iPad Downloads  \\\n",
       "0      AR  12/30/2019                NaN              NaN             NaN   \n",
       "1      AT  12/30/2019                NaN              NaN             NaN   \n",
       "2      AU  12/30/2019                NaN              NaN            27.0   \n",
       "3      AZ  12/30/2019                NaN              NaN             NaN   \n",
       "4      BE  12/30/2019                NaN              NaN             NaN   \n",
       "\n",
       "  iPad Revenue  iPhone Downloads iPhone Revenue  \\\n",
       "0          NaN               1.0            NaN   \n",
       "1          NaN               1.0            NaN   \n",
       "2          NaN             274.0            NaN   \n",
       "3          NaN               6.0            NaN   \n",
       "4          NaN              13.0            NaN   \n",
       "\n",
       "   Unified Total Downloads (Only for Unified CSV)  \\\n",
       "0                                             NaN   \n",
       "1                                             NaN   \n",
       "2                                             NaN   \n",
       "3                                             NaN   \n",
       "4                                             NaN   \n",
       "\n",
       "   Unified Total Revenue (Only for Unified CSV)  \n",
       "0                                           NaN  \n",
       "1                                           NaN  \n",
       "2                                           NaN  \n",
       "3                                           NaN  \n",
       "4                                           NaN  "
      ]
     },
     "execution_count": 6,
     "metadata": {},
     "output_type": "execute_result"
    }
   ],
   "source": [
    "app_estimates_df.head()"
   ]
  },
  {
   "cell_type": "code",
   "execution_count": 7,
   "metadata": {},
   "outputs": [
    {
     "data": {
      "text/plain": [
       "(976849, 19)"
      ]
     },
     "execution_count": 7,
     "metadata": {},
     "output_type": "execute_result"
    }
   ],
   "source": [
    "# inspect shape\n",
    "app_estimates_df.shape"
   ]
  },
  {
   "cell_type": "code",
   "execution_count": 8,
   "metadata": {},
   "outputs": [
    {
     "data": {
      "text/plain": [
       "0"
      ]
     },
     "execution_count": 8,
     "metadata": {},
     "output_type": "execute_result"
    }
   ],
   "source": [
    "# look for number of duplicated rows \n",
    "sum(app_estimates_df.duplicated())"
   ]
  },
  {
   "cell_type": "code",
   "execution_count": 9,
   "metadata": {},
   "outputs": [
    {
     "data": {
      "text/plain": [
       "798"
      ]
     },
     "execution_count": 9,
     "metadata": {},
     "output_type": "execute_result"
    }
   ],
   "source": [
    "# look for unique values in App ID column\n",
    "app_estimates_df['App ID'].nunique()"
   ]
  },
  {
   "cell_type": "code",
   "execution_count": 10,
   "metadata": {},
   "outputs": [
    {
     "data": {
      "text/plain": [
       "797"
      ]
     },
     "execution_count": 10,
     "metadata": {},
     "output_type": "execute_result"
    }
   ],
   "source": [
    "# look for unique values in 'App Name' column\n",
    "# the 'App Name' distinct count is lower than the 'App ID' count as the McDonald's app has two different App IDs: one for McDonald's US and one McDonald's Global (the latter also includes US country data)\n",
    "app_estimates_df['App Name'].nunique()"
   ]
  },
  {
   "cell_type": "code",
   "execution_count": 11,
   "metadata": {},
   "outputs": [
    {
     "name": "stdout",
     "output_type": "stream",
     "text": [
      "<class 'pandas.core.frame.DataFrame'>\n",
      "RangeIndex: 3000 entries, 0 to 2999\n",
      "Data columns (total 22 columns):\n",
      " #   Column                             Non-Null Count  Dtype  \n",
      "---  ------                             --------------  -----  \n",
      " 0   Unified ID                         3000 non-null   object \n",
      " 1   Unified Name                       3000 non-null   object \n",
      " 2   Unified Publisher                  3000 non-null   object \n",
      " 3   Unified Publisher Name             3000 non-null   object \n",
      " 4   App ID                             3000 non-null   int64  \n",
      " 5   App Name                           3000 non-null   object \n",
      " 6   Publisher ID                       3000 non-null   int64  \n",
      " 7   Publisher Name                     3000 non-null   object \n",
      " 8   Country                            3000 non-null   object \n",
      " 9   Date                               3000 non-null   object \n",
      " 10  Absolute (Downloads)               3000 non-null   int64  \n",
      " 11  Change (Downloads)                 3000 non-null   int64  \n",
      " 12  Change Ratio (Downloads)           3000 non-null   float64\n",
      " 13  Absolute (Revenue)                 3000 non-null   object \n",
      " 14  Change (Revenue)                   3000 non-null   object \n",
      " 15  Change Ratio (Revenue)             3000 non-null   float64\n",
      " 16  Category                           3000 non-null   object \n",
      " 17  App Release Date                   3000 non-null   object \n",
      " 18  Publisher Country                  2586 non-null   object \n",
      " 19  Is a Game                          3000 non-null   bool   \n",
      " 20  Most Popular Country by Downloads  3000 non-null   object \n",
      " 21  Most Popular Country by Revenue    2562 non-null   object \n",
      "dtypes: bool(1), float64(2), int64(4), object(15)\n",
      "memory usage: 495.2+ KB\n",
      "<class 'pandas.core.frame.DataFrame'>\n",
      "RangeIndex: 976849 entries, 0 to 976848\n",
      "Data columns (total 19 columns):\n",
      " #   Column                                          Non-Null Count   Dtype  \n",
      "---  ------                                          --------------   -----  \n",
      " 0   Unified ID                                      976849 non-null  object \n",
      " 1   Unified Name                                    976849 non-null  object \n",
      " 2   Unified Publisher                               976849 non-null  object \n",
      " 3   Unified Publisher Name                          976849 non-null  object \n",
      " 4   Parent Company Name                             0 non-null       float64\n",
      " 5   App ID                                          976849 non-null  int64  \n",
      " 6   App Name                                        976849 non-null  object \n",
      " 7   Publisher ID                                    976849 non-null  int64  \n",
      " 8   Publisher Name                                  976849 non-null  object \n",
      " 9   Country                                         976849 non-null  object \n",
      " 10  Date                                            976849 non-null  object \n",
      " 11  Android Downloads                               0 non-null       float64\n",
      " 12  Android Revenue                                 0 non-null       float64\n",
      " 13  iPad Downloads                                  693067 non-null  float64\n",
      " 14  iPad Revenue                                    461671 non-null  object \n",
      " 15  iPhone Downloads                                933175 non-null  float64\n",
      " 16  iPhone Revenue                                  627326 non-null  object \n",
      " 17  Unified Total Downloads (Only for Unified CSV)  0 non-null       float64\n",
      " 18  Unified Total Revenue (Only for Unified CSV)    0 non-null       float64\n",
      "dtypes: float64(7), int64(2), object(10)\n",
      "memory usage: 141.6+ MB\n"
     ]
    }
   ],
   "source": [
    "# check non-null count and Dtype\n",
    "# 'App ID' Dtype will be changed from int64 to object once the datasets are merged \n",
    "# 'Date' Dtype will be changed from object to datetime once the datasets are merged\n",
    "app_info_df.info()\n",
    "app_estimates_df.info()"
   ]
  },
  {
   "cell_type": "markdown",
   "metadata": {},
   "source": [
    "#### Merge app_info and app_estimates datasets "
   ]
  },
  {
   "cell_type": "code",
   "execution_count": 12,
   "metadata": {},
   "outputs": [],
   "source": [
    "# merge the app_estimates dataset with the app_info dataset, using a left join and 'App ID' as the merge index column \n",
    "app_covid_df = pd.merge(app_estimates_df,\n",
    "                        app_info_df[['App ID','Category']],\n",
    "                        on = 'App ID',\n",
    "                        how = 'left')"
   ]
  },
  {
   "cell_type": "markdown",
   "metadata": {},
   "source": [
    "#### Check and drop duplicates and NA values from merged dataset"
   ]
  },
  {
   "cell_type": "code",
   "execution_count": 13,
   "metadata": {},
   "outputs": [
    {
     "data": {
      "text/plain": [
       "(1353579, 20)"
      ]
     },
     "execution_count": 13,
     "metadata": {},
     "output_type": "execute_result"
    }
   ],
   "source": [
    "# the left join merge creates a number of duplicate rows which have to be removed  \n",
    "app_covid_df.shape"
   ]
  },
  {
   "cell_type": "code",
   "execution_count": 14,
   "metadata": {},
   "outputs": [
    {
     "data": {
      "text/plain": [
       "376730"
      ]
     },
     "execution_count": 14,
     "metadata": {},
     "output_type": "execute_result"
    }
   ],
   "source": [
    "# look for duplicates \n",
    "sum(app_covid_df.duplicated())"
   ]
  },
  {
   "cell_type": "code",
   "execution_count": 15,
   "metadata": {},
   "outputs": [
    {
     "data": {
      "text/plain": [
       "0"
      ]
     },
     "execution_count": 15,
     "metadata": {},
     "output_type": "execute_result"
    }
   ],
   "source": [
    "# drop duplicates\n",
    "app_covid_df.drop_duplicates(inplace=True)\n",
    "sum(app_covid_df.duplicated())"
   ]
  },
  {
   "cell_type": "code",
   "execution_count": 16,
   "metadata": {},
   "outputs": [
    {
     "data": {
      "text/plain": [
       "Unified ID                                             0\n",
       "Unified Name                                           0\n",
       "Unified Publisher                                      0\n",
       "Unified Publisher Name                                 0\n",
       "Parent Company Name                               976849\n",
       "App ID                                                 0\n",
       "App Name                                               0\n",
       "Publisher ID                                           0\n",
       "Publisher Name                                         0\n",
       "Country                                                0\n",
       "Date                                                   0\n",
       "Android Downloads                                 976849\n",
       "Android Revenue                                   976849\n",
       "iPad Downloads                                    283782\n",
       "iPad Revenue                                      515178\n",
       "iPhone Downloads                                   43674\n",
       "iPhone Revenue                                    349523\n",
       "Unified Total Downloads (Only for Unified CSV)    976849\n",
       "Unified Total Revenue (Only for Unified CSV)      976849\n",
       "Category                                               0\n",
       "dtype: int64"
      ]
     },
     "execution_count": 16,
     "metadata": {},
     "output_type": "execute_result"
    }
   ],
   "source": [
    "# look for NA value \n",
    "app_covid_df.isnull().sum()"
   ]
  },
  {
   "cell_type": "code",
   "execution_count": 17,
   "metadata": {},
   "outputs": [],
   "source": [
    "# drop rows that are all NA \n",
    "app_covid_df.dropna(how='all', inplace=True)"
   ]
  },
  {
   "cell_type": "code",
   "execution_count": 18,
   "metadata": {},
   "outputs": [],
   "source": [
    "# drop columns that are all NA\n",
    "app_covid_df.dropna(axis=1, how='all', inplace=True)"
   ]
  },
  {
   "cell_type": "code",
   "execution_count": 19,
   "metadata": {},
   "outputs": [
    {
     "data": {
      "text/plain": [
       "Unified ID                     0\n",
       "Unified Name                   0\n",
       "Unified Publisher              0\n",
       "Unified Publisher Name         0\n",
       "App ID                         0\n",
       "App Name                       0\n",
       "Publisher ID                   0\n",
       "Publisher Name                 0\n",
       "Country                        0\n",
       "Date                           0\n",
       "iPad Downloads            283782\n",
       "iPad Revenue              515178\n",
       "iPhone Downloads           43674\n",
       "iPhone Revenue            349523\n",
       "Category                       0\n",
       "dtype: int64"
      ]
     },
     "execution_count": 19,
     "metadata": {},
     "output_type": "execute_result"
    }
   ],
   "source": [
    "# there are missing values in 4 variables \n",
    "app_covid_df.isnull().sum()"
   ]
  },
  {
   "cell_type": "code",
   "execution_count": 20,
   "metadata": {},
   "outputs": [
    {
     "data": {
      "text/plain": [
       "Unified ID                 0.000000\n",
       "Unified Name               0.000000\n",
       "Unified Publisher          0.000000\n",
       "Unified Publisher Name     0.000000\n",
       "App ID                     0.000000\n",
       "App Name                   0.000000\n",
       "Publisher ID               0.000000\n",
       "Publisher Name             0.000000\n",
       "Country                    0.000000\n",
       "Date                       0.000000\n",
       "iPad Downloads            29.050754\n",
       "iPad Revenue              52.738755\n",
       "iPhone Downloads           4.470906\n",
       "iPhone Revenue            35.780658\n",
       "Category                   0.000000\n",
       "dtype: float64"
      ]
     },
     "execution_count": 20,
     "metadata": {},
     "output_type": "execute_result"
    }
   ],
   "source": [
    "# percentage of missing values\n",
    "# I'll later check number of missing values for each country I want to include in the analysis and fill or delete NAs  \n",
    "app_covid_df.isna().sum()/(len(app_covid_df))*100"
   ]
  },
  {
   "cell_type": "markdown",
   "metadata": {},
   "source": [
    "#### Change Dtypes "
   ]
  },
  {
   "cell_type": "code",
   "execution_count": 21,
   "metadata": {},
   "outputs": [],
   "source": [
    "# change 'App ID' variable dtype from int64 to object\n",
    "app_covid_df['App ID'] = app_covid_df['App ID'].astype(object) "
   ]
  },
  {
   "cell_type": "code",
   "execution_count": 22,
   "metadata": {},
   "outputs": [],
   "source": [
    "# change 'Date' variable dtype from object to datetime \n",
    "app_covid_df['Date'] =  pd.to_datetime(app_covid_df['Date'], infer_datetime_format=True)"
   ]
  },
  {
   "cell_type": "markdown",
   "metadata": {},
   "source": [
    "#### Replace country codes with country names "
   ]
  },
  {
   "cell_type": "code",
   "execution_count": 23,
   "metadata": {},
   "outputs": [],
   "source": [
    "app_covid_df[\"Country\"].replace({'AE': 'United Arab Emirates', 'AO':'Angola','AR': 'Argentina', 'AT': 'Austria', 'AU':'Australia','AZ':'Azerbaijan','BB':'Barbados','BE':'Belgium','BG':'Bulgaria', 'BM':'Bermuda','BO':'Bolivia','BR':'Brazil','BY':'Belarus','CA':'Canada','CH':'Switzerland','CL':'Chile','CN':'China','CO':'Colombia','CR':'Costa Rica', 'CZ':'Czech Republic','DE':'Germany','DK':'Denmark','DO':'Dominican Republic','DZ':'Algeria','EC':'Ecuador','EE':'Estonia','EG':'Egypt','ES':'Spain','FI':'Finland','FR':'France','GB':'Great Britain','GH':'Ghana','GR':'Greece','GT':'Guatemala','HK':'Hong Kong','HR':'Croatia','HU':'Hungary','ID':'Indonesia','IE':'Ireland','IL':'Israel','IN':'India','IT':'Italy','JP':'Japan','KE':'Kenya','KH':'Cambodia','KR':'South Korea','KW':'Kuwait','KZ':'Kazakhstan','LB':'Lebanon','LK':'Sri Lanka','LT':'Lithuania','LU':'Luxembourg','LV':'Latvia','MG':'Madagascar','MO':'Macau','MX':'Mexico','MY':'Malaysia','NG':'Nigeria','NI':'Nicaragua','NL':'Netherlands','NO':'Norway','NZ':'New Zealand','OM':'Oman','PA':'Panama','PE':'Peru','PH':'Philippines','PK':'Pakistan','PL':'Poland','PT':'Portugal','PY':'Paraguay','QA':'Qatar','RO':'Romania','RU':'Russia','SA':'Saudi Arabia','SE':'Sweden','SG':'Singapore','SI':'Slovenia','SK':'Slovakia','SV':'El Salvador','TH':'Thailand','TN':'Tunisia','TR':'Turkey','TW':'Taiwan','UA':'Ukraine','US':'US','UY':'Uruguay','UZ':'Uzbekistan','VE':'Venezuela','VN':'Vietnam','ZA':'South Africa'}, inplace=True)"
   ]
  },
  {
   "cell_type": "markdown",
   "metadata": {},
   "source": [
    "#### Modify column heading names & remove columns not necessary for the analysis "
   ]
  },
  {
   "cell_type": "code",
   "execution_count": 24,
   "metadata": {},
   "outputs": [],
   "source": [
    "# replace the space between a column heading name with an underscore \n",
    "app_covid_df.columns = app_covid_df.columns.str.replace(' ','_')"
   ]
  },
  {
   "cell_type": "code",
   "execution_count": 25,
   "metadata": {},
   "outputs": [],
   "source": [
    "# remove columns that aren't strictly necessary for this analysis with pandas \n",
    "app_covid_df = app_covid_df.drop (['Unified_ID', 'Unified_Name','Unified_Publisher', 'Unified_Publisher_Name', 'Publisher_ID', 'Publisher_Name'], axis=1)"
   ]
  },
  {
   "cell_type": "markdown",
   "metadata": {},
   "source": [
    "#### Sum download and revenue values and merge them into two new columns. Then drop new redundant columns "
   ]
  },
  {
   "cell_type": "code",
   "execution_count": 26,
   "metadata": {},
   "outputs": [],
   "source": [
    "# remove dollar sign from iPad_Revenue and iPhone_Revenue values \n",
    "\n",
    "app_covid_df['iPad_Revenue'] = app_covid_df['iPad_Revenue'].str.replace(',', '').str.replace('$', '').astype(float)\n",
    "\n",
    "app_covid_df['iPhone_Revenue'] = app_covid_df['iPhone_Revenue'].str.replace(',', '').str.replace('$', '').astype(float)"
   ]
  },
  {
   "cell_type": "code",
   "execution_count": 27,
   "metadata": {},
   "outputs": [],
   "source": [
    "# sum download and revenue values and create two new columns \n",
    "\n",
    "app_covid_df.loc[:,'Downloads'] = app_covid_df.loc[:,['iPad_Downloads','iPhone_Downloads']].sum(axis=1, min_count=1)\n",
    "\n",
    "app_covid_df.loc[:,'Revenues'] = app_covid_df.loc[:,['iPad_Revenue','iPhone_Revenue']].sum(axis=1, min_count=1)"
   ]
  },
  {
   "cell_type": "code",
   "execution_count": 28,
   "metadata": {},
   "outputs": [],
   "source": [
    "# drop columns that are now redundant \n",
    "\n",
    "app_covid_df = app_covid_df.drop (['iPad_Downloads', 'iPad_Revenue','iPhone_Downloads', 'iPhone_Revenue'], axis=1)"
   ]
  },
  {
   "cell_type": "code",
   "execution_count": 29,
   "metadata": {},
   "outputs": [
    {
     "data": {
      "text/html": [
       "<div>\n",
       "<style scoped>\n",
       "    .dataframe tbody tr th:only-of-type {\n",
       "        vertical-align: middle;\n",
       "    }\n",
       "\n",
       "    .dataframe tbody tr th {\n",
       "        vertical-align: top;\n",
       "    }\n",
       "\n",
       "    .dataframe thead th {\n",
       "        text-align: right;\n",
       "    }\n",
       "</style>\n",
       "<table border=\"1\" class=\"dataframe\">\n",
       "  <thead>\n",
       "    <tr style=\"text-align: right;\">\n",
       "      <th></th>\n",
       "      <th>App_ID</th>\n",
       "      <th>App_Name</th>\n",
       "      <th>Country</th>\n",
       "      <th>Date</th>\n",
       "      <th>Category</th>\n",
       "      <th>Downloads</th>\n",
       "      <th>Revenues</th>\n",
       "    </tr>\n",
       "  </thead>\n",
       "  <tbody>\n",
       "    <tr>\n",
       "      <th>0</th>\n",
       "      <td>414245413</td>\n",
       "      <td>京东-一起热爱 就现在</td>\n",
       "      <td>Argentina</td>\n",
       "      <td>2019-12-30</td>\n",
       "      <td>Shopping</td>\n",
       "      <td>1.0</td>\n",
       "      <td>NaN</td>\n",
       "    </tr>\n",
       "    <tr>\n",
       "      <th>1</th>\n",
       "      <td>414245413</td>\n",
       "      <td>京东-一起热爱 就现在</td>\n",
       "      <td>Austria</td>\n",
       "      <td>2019-12-30</td>\n",
       "      <td>Shopping</td>\n",
       "      <td>1.0</td>\n",
       "      <td>NaN</td>\n",
       "    </tr>\n",
       "    <tr>\n",
       "      <th>2</th>\n",
       "      <td>414245413</td>\n",
       "      <td>京东-一起热爱 就现在</td>\n",
       "      <td>Australia</td>\n",
       "      <td>2019-12-30</td>\n",
       "      <td>Shopping</td>\n",
       "      <td>301.0</td>\n",
       "      <td>NaN</td>\n",
       "    </tr>\n",
       "    <tr>\n",
       "      <th>3</th>\n",
       "      <td>414245413</td>\n",
       "      <td>京东-一起热爱 就现在</td>\n",
       "      <td>Azerbaijan</td>\n",
       "      <td>2019-12-30</td>\n",
       "      <td>Shopping</td>\n",
       "      <td>6.0</td>\n",
       "      <td>NaN</td>\n",
       "    </tr>\n",
       "    <tr>\n",
       "      <th>4</th>\n",
       "      <td>414245413</td>\n",
       "      <td>京东-一起热爱 就现在</td>\n",
       "      <td>Belgium</td>\n",
       "      <td>2019-12-30</td>\n",
       "      <td>Shopping</td>\n",
       "      <td>13.0</td>\n",
       "      <td>NaN</td>\n",
       "    </tr>\n",
       "    <tr>\n",
       "      <th>...</th>\n",
       "      <td>...</td>\n",
       "      <td>...</td>\n",
       "      <td>...</td>\n",
       "      <td>...</td>\n",
       "      <td>...</td>\n",
       "      <td>...</td>\n",
       "      <td>...</td>\n",
       "    </tr>\n",
       "    <tr>\n",
       "      <th>3495</th>\n",
       "      <td>1434400630</td>\n",
       "      <td>Traffic Run!</td>\n",
       "      <td>Angola</td>\n",
       "      <td>2020-03-23</td>\n",
       "      <td>Games</td>\n",
       "      <td>3.0</td>\n",
       "      <td>NaN</td>\n",
       "    </tr>\n",
       "    <tr>\n",
       "      <th>3496</th>\n",
       "      <td>1434400630</td>\n",
       "      <td>Traffic Run!</td>\n",
       "      <td>Argentina</td>\n",
       "      <td>2020-03-23</td>\n",
       "      <td>Games</td>\n",
       "      <td>14.0</td>\n",
       "      <td>NaN</td>\n",
       "    </tr>\n",
       "    <tr>\n",
       "      <th>3497</th>\n",
       "      <td>1434400630</td>\n",
       "      <td>Traffic Run!</td>\n",
       "      <td>Austria</td>\n",
       "      <td>2020-03-23</td>\n",
       "      <td>Games</td>\n",
       "      <td>548.0</td>\n",
       "      <td>8.0</td>\n",
       "    </tr>\n",
       "    <tr>\n",
       "      <th>3498</th>\n",
       "      <td>1434400630</td>\n",
       "      <td>Traffic Run!</td>\n",
       "      <td>Australia</td>\n",
       "      <td>2020-03-23</td>\n",
       "      <td>Games</td>\n",
       "      <td>6391.0</td>\n",
       "      <td>34.0</td>\n",
       "    </tr>\n",
       "    <tr>\n",
       "      <th>3499</th>\n",
       "      <td>1434400630</td>\n",
       "      <td>Traffic Run!</td>\n",
       "      <td>Azerbaijan</td>\n",
       "      <td>2020-03-23</td>\n",
       "      <td>Games</td>\n",
       "      <td>44.0</td>\n",
       "      <td>NaN</td>\n",
       "    </tr>\n",
       "  </tbody>\n",
       "</table>\n",
       "<p>3500 rows × 7 columns</p>\n",
       "</div>"
      ],
      "text/plain": [
       "          App_ID      App_Name     Country       Date  Category  Downloads  \\\n",
       "0      414245413   京东-一起热爱 就现在   Argentina 2019-12-30  Shopping        1.0   \n",
       "1      414245413   京东-一起热爱 就现在     Austria 2019-12-30  Shopping        1.0   \n",
       "2      414245413   京东-一起热爱 就现在   Australia 2019-12-30  Shopping      301.0   \n",
       "3      414245413   京东-一起热爱 就现在  Azerbaijan 2019-12-30  Shopping        6.0   \n",
       "4      414245413   京东-一起热爱 就现在     Belgium 2019-12-30  Shopping       13.0   \n",
       "...          ...           ...         ...        ...       ...        ...   \n",
       "3495  1434400630  Traffic Run!      Angola 2020-03-23     Games        3.0   \n",
       "3496  1434400630  Traffic Run!   Argentina 2020-03-23     Games       14.0   \n",
       "3497  1434400630  Traffic Run!     Austria 2020-03-23     Games      548.0   \n",
       "3498  1434400630  Traffic Run!   Australia 2020-03-23     Games     6391.0   \n",
       "3499  1434400630  Traffic Run!  Azerbaijan 2020-03-23     Games       44.0   \n",
       "\n",
       "      Revenues  \n",
       "0          NaN  \n",
       "1          NaN  \n",
       "2          NaN  \n",
       "3          NaN  \n",
       "4          NaN  \n",
       "...        ...  \n",
       "3495       NaN  \n",
       "3496       NaN  \n",
       "3497       8.0  \n",
       "3498      34.0  \n",
       "3499       NaN  \n",
       "\n",
       "[3500 rows x 7 columns]"
      ]
     },
     "execution_count": 29,
     "metadata": {},
     "output_type": "execute_result"
    }
   ],
   "source": [
    "app_covid_df.head(3500)"
   ]
  },
  {
   "cell_type": "markdown",
   "metadata": {},
   "source": [
    "#### Check NA values for individual countries of interest "
   ]
  },
  {
   "cell_type": "code",
   "execution_count": 30,
   "metadata": {},
   "outputs": [
    {
     "data": {
      "text/plain": [
       "App_ID        0.000000\n",
       "App_Name      0.000000\n",
       "Country       0.000000\n",
       "Date          0.000000\n",
       "Category      0.000000\n",
       "Downloads     0.678864\n",
       "Revenues     33.123603\n",
       "dtype: float64"
      ]
     },
     "execution_count": 30,
     "metadata": {},
     "output_type": "execute_result"
    }
   ],
   "source": [
    "IT = app_covid_df[(app_covid_df['Country'] == 'Italy')]\n",
    "IT.isna().sum()/(len(IT))*100"
   ]
  },
  {
   "cell_type": "code",
   "execution_count": 31,
   "metadata": {},
   "outputs": [
    {
     "data": {
      "text/plain": [
       "App_ID        0.000000\n",
       "App_Name      0.000000\n",
       "Country       0.000000\n",
       "Date          0.000000\n",
       "Category      0.000000\n",
       "Downloads     0.055406\n",
       "Revenues     32.515435\n",
       "dtype: float64"
      ]
     },
     "execution_count": 31,
     "metadata": {},
     "output_type": "execute_result"
    }
   ],
   "source": [
    "AU = app_covid_df[(app_covid_df['Country'] == 'Australia')]\n",
    "AU.isna().sum()/(len(AU))*100"
   ]
  },
  {
   "cell_type": "code",
   "execution_count": 32,
   "metadata": {},
   "outputs": [
    {
     "data": {
      "text/plain": [
       "App_ID        0.000000\n",
       "App_Name      0.000000\n",
       "Country       0.000000\n",
       "Date          0.000000\n",
       "Category      0.000000\n",
       "Downloads     2.589567\n",
       "Revenues     26.452571\n",
       "dtype: float64"
      ]
     },
     "execution_count": 32,
     "metadata": {},
     "output_type": "execute_result"
    }
   ],
   "source": [
    "BR = app_covid_df[(app_covid_df['Country'] == 'Brazil')]\n",
    "BR.isna().sum()/(len(BR))*100"
   ]
  },
  {
   "cell_type": "code",
   "execution_count": 33,
   "metadata": {},
   "outputs": [
    {
     "data": {
      "text/plain": [
       "App_ID        0.000000\n",
       "App_Name      0.000000\n",
       "Country       0.000000\n",
       "Date          0.000000\n",
       "Category      0.000000\n",
       "Downloads     0.276941\n",
       "Revenues     33.069968\n",
       "dtype: float64"
      ]
     },
     "execution_count": 33,
     "metadata": {},
     "output_type": "execute_result"
    }
   ],
   "source": [
    "JP = app_covid_df[(app_covid_df['Country'] == 'Japan')]\n",
    "JP.isna().sum()/(len(JP))*100"
   ]
  },
  {
   "cell_type": "code",
   "execution_count": 34,
   "metadata": {},
   "outputs": [
    {
     "data": {
      "text/plain": [
       "App_ID        0.000000\n",
       "App_Name      0.000000\n",
       "Country       0.000000\n",
       "Date          0.000000\n",
       "Category      0.000000\n",
       "Downloads     0.273994\n",
       "Revenues     31.971191\n",
       "dtype: float64"
      ]
     },
     "execution_count": 34,
     "metadata": {},
     "output_type": "execute_result"
    }
   ],
   "source": [
    "US = app_covid_df[(app_covid_df['Country'] == 'US')]\n",
    "US.isna().sum()/(len(US))*100"
   ]
  },
  {
   "cell_type": "markdown",
   "metadata": {},
   "source": [
    "#### Fill missing values"
   ]
  },
  {
   "cell_type": "code",
   "execution_count": 35,
   "metadata": {},
   "outputs": [],
   "source": [
    "# fill missing values with a costant (0)\n",
    "# as this analysis focuses on descriptive rather than inferential statistics, I have decided to simply fill NA values with a costant \n",
    "# in other isntances, I could have also used 1) the mean, median, or mode for the column, the country or the category; 2) interpolation methods \n",
    "app_covid_df.fillna(0, inplace=True)"
   ]
  },
  {
   "cell_type": "code",
   "execution_count": 36,
   "metadata": {},
   "outputs": [
    {
     "data": {
      "text/plain": [
       "App_ID       0\n",
       "App_Name     0\n",
       "Country      0\n",
       "Date         0\n",
       "Category     0\n",
       "Downloads    0\n",
       "Revenues     0\n",
       "dtype: int64"
      ]
     },
     "execution_count": 36,
     "metadata": {},
     "output_type": "execute_result"
    }
   ],
   "source": [
    "# check that there are no NA values \n",
    "app_covid_df.isna().sum()"
   ]
  },
  {
   "cell_type": "markdown",
   "metadata": {},
   "source": [
    "#### Sample EDA: Italy (full EDA to be carried out in Excel)"
   ]
  },
  {
   "cell_type": "code",
   "execution_count": 37,
   "metadata": {},
   "outputs": [
    {
     "data": {
      "image/png": "[encoded data removed]",
      "text/plain": [
       "<Figure size 864x576 with 1 Axes>"
      ]
     },
     "metadata": {
      "needs_background": "light"
     },
     "output_type": "display_data"
    }
   ],
   "source": [
    "IT[['Date', 'Downloads', 'Revenues']].groupby(['Date']).sum().sort_values(['Date'], ascending=True).pct_change().plot(kind='bar', figsize=(12,8)); "
   ]
  },
  {
   "cell_type": "code",
   "execution_count": 38,
   "metadata": {},
   "outputs": [
    {
     "data": {
      "image/png": "[encoded data removed]",
      "text/plain": [
       "<Figure size 864x576 with 1 Axes>"
      ]
     },
     "metadata": {
      "needs_background": "light"
     },
     "output_type": "display_data"
    }
   ],
   "source": [
    "IT[['Date', 'Downloads']].groupby(['Date']).sum().sort_values(['Date'], ascending=True).plot(kind='bar',figsize=(12,8), color='blue')\n",
    "plt.title('# of downloads in Italy between Dec,30, 2019 and Apr 27,2020')\n",
    "plt.xlabel ('Date')\n",
    "plt.ylabel ('# of downloads');"
   ]
  },
  {
   "cell_type": "code",
   "execution_count": 39,
   "metadata": {},
   "outputs": [
    {
     "data": {
      "image/png": "[encoded data removed]",
      "text/plain": [
       "<Figure size 864x576 with 1 Axes>"
      ]
     },
     "metadata": {
      "needs_background": "light"
     },
     "output_type": "display_data"
    }
   ],
   "source": [
    "IT[['Date', 'Downloads']].groupby(['Date']).sum().sort_values(['Date'], ascending=True).pct_change().plot(kind='bar', figsize=(12,8), color='green')\n",
    "plt.title('% change of downloads in Italy between Dec,30, 2019 and Apr 27,2020')\n",
    "plt.xlabel ('Date')\n",
    "plt.ylabel ('% change of downloads');"
   ]
  },
  {
   "cell_type": "markdown",
   "metadata": {},
   "source": [
    "#### Save to xlsx and change name "
   ]
  },
  {
   "cell_type": "code",
   "execution_count": 40,
   "metadata": {},
   "outputs": [],
   "source": [
    "# saving to xlsx otherwise if saved in csv, Chinese characters won't be displayed correctly in Excel (not even if saved as UTF-8)\n",
    "\n",
    "app_covid_df.to_excel('Mobile_Insight_Analyst_Assignment_Marco_Scacchi.xlsx', index=False)"
   ]
  }
 ],
 "metadata": {
  "kernelspec": {
   "display_name": "Python 3",
   "language": "python",
   "name": "python3"
  },
  "language_info": {
   "codemirror_mode": {
    "name": "ipython",
    "version": 3
   },
   "file_extension": ".py",
   "mimetype": "text/x-python",
   "name": "python",
   "nbconvert_exporter": "python",
   "pygments_lexer": "ipython3",
   "version": "3.8.5"
  }
 },
 "nbformat": 4,
 "nbformat_minor": 4
}
